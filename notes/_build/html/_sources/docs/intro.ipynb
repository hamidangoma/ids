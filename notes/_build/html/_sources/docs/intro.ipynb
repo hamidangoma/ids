{
 "cells": [
  {
   "cell_type": "markdown",
   "id": "2c295551",
   "metadata": {},
   "source": [
    "(intro)=\n",
    "\n",
    "# Introduction\n",
    "\n",
    "## What is data science?\n",
    "\n",
    "One widely accepted concept is the three pillars of data science:\n",
    "mathematics/statistics, computer science, and domain knowledge.\n",
    "\n",
    "In her 2014 Presidential Address, Prof. Bin Yu, then President of the\n",
    "Institute of Mathematical Statistics, gave an interesting definition:\n",
    "```{math}\n",
    "\\mbox{Data Science} =\n",
    "\\mbox{S}\\mbox{D}\\mbox{C}^3,\n",
    "```\n",
    "where S is Statistics, D is domain/science knowledge, and\n",
    "the three C's are computing, collaboration/teamwork, and communication\n",
    "to outsiders.\n",
    "\n",
    "\n",
    "## Set up Computing Environment\n",
    "\n",
    "All setups are operating system dependent.\n",
    "\n",
    "As soon as possible, stay away from Windows. Otherwise, good luck (you\n",
    "need it).\n",
    "\n",
    "### Command line interface\n",
    "\n",
    "### Python\n",
    "\n",
    "- Install Python package manager __miniconda__ or __pip__.\n",
    "- Install Python\n",
    "- Install an IDE (Jupyter Notebook or VS Code)\n",
    "\n",
    "### A book project with Jupyter-book\n",
    "\n",
    "- Markdown for text\n",
    "- Jupyter notebook for code demo\n",
    "- Jupytext\n",
    "\n",
    "### Git and GitHub\n",
    "\n",
    "\n",
    "## Topics\n",
    "\n",
    "1. Setting up \n",
    "1. Python Basics\n",
    "1. Numerical operations (NumPy)\n",
    "1. Data manipulation (Pandas)\n",
    "1. Data visualization (Matplotlib)\n",
    "1. Statistical modeling (statsmodels)\n",
    "1. Machine learning (Scikit-learn)\n",
    "1. Distributed computing (Dask)"
   ]
  }
 ],
 "metadata": {
  "jupytext": {
   "text_representation": {
    "extension": ".md",
    "format_name": "myst"
   }
  },
  "kernelspec": {
   "display_name": "Python 3",
   "language": "python",
   "name": "python3"
  },
  "language_info": {
   "codemirror_mode": {
    "name": "ipython",
    "version": 3
   },
   "file_extension": ".py",
   "mimetype": "text/x-python",
   "name": "python",
   "nbconvert_exporter": "python",
   "pygments_lexer": "ipython3",
   "version": "3.9.6"
  },
  "source_map": [
   10
  ]
 },
 "nbformat": 4,
 "nbformat_minor": 5
}