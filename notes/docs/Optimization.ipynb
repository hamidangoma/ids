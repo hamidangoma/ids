{
 "cells": [
  {
   "cell_type": "markdown",
   "id": "1f17e34a",
   "metadata": {},
   "source": [
    "# Optimization"
   ]
  },
  {
   "cell_type": "markdown",
   "id": "643d7b5a",
   "metadata": {},
   "source": [
    "SciPy optimize provides functions for minimizing (or maximizing) objective functions, possibly subject to constraints. It includes solvers for nonlinear problems (with support for both local and global optimization algorithms), linear programing, constrained and nonlinear least-squares, root finding, and curve fitting."
   ]
  },
  {
   "cell_type": "markdown",
   "id": "7e47c111",
   "metadata": {},
   "source": [
    "## Least-squares minimization (least_squares)"
   ]
  },
  {
   "cell_type": "markdown",
   "id": "782c2ae6",
   "metadata": {},
   "source": [
    "### Example of solving a fitting problem"
   ]
  },
  {
   "cell_type": "markdown",
   "id": "ec966838",
   "metadata": {},
   "source": [
    "$f_i(x)=\\frac{1}{(x+1)}-y_i, i=1,...,10$  \n",
    "where $y_i$ are measurement values.The unknown vector of parameters is $x$.  \n",
    "It is recommended to compute Jacobian matrix in a closed form:  \n",
    "$J_i=\\frac{-1}{(x+1)^2}$"
   ]
  },
  {
   "cell_type": "code",
   "execution_count": 7,
   "id": "80bd3139",
   "metadata": {},
   "outputs": [],
   "source": [
    "from scipy.optimize import least_squares\n",
    "import numpy as np"
   ]
  },
  {
   "cell_type": "code",
   "execution_count": 29,
   "id": "45885c49",
   "metadata": {},
   "outputs": [],
   "source": [
    "def fun(x,  y):\n",
    "    return 1/(x+1)*np.ones(10) - y"
   ]
  },
  {
   "cell_type": "code",
   "execution_count": 30,
   "id": "c84d1063",
   "metadata": {},
   "outputs": [],
   "source": [
    "def jac(x):\n",
    "    J = np.empty((x.size, x.size))\n",
    "    J[:, 0] = -1/(x+1)^2\n",
    "    return J"
   ]
  },
  {
   "cell_type": "code",
   "execution_count": 31,
   "id": "1628619c",
   "metadata": {},
   "outputs": [],
   "source": [
    "y = np.array([1.957e-1, 1.947e-1, 1.735e-1, 1.6e-1, 8.44e-2, 6.27e-2,\n",
    "              4.56e-2, 3.42e-2, 3.23e-2, 2.35e-2])\n",
    "x = np.array([2.5])"
   ]
  },
  {
   "cell_type": "code",
   "execution_count": null,
   "id": "1ef07878",
   "metadata": {},
   "outputs": [],
   "source": [
    "res = least_squares(fun, x, jac=jac, bounds=(0, 100), args=(y), verbose=1)"
   ]
  }
 ],
 "metadata": {
  "kernelspec": {
   "display_name": "Python 3 (ipykernel)",
   "language": "python",
   "name": "python3"
  },
  "language_info": {
   "codemirror_mode": {
    "name": "ipython",
    "version": 3
   },
   "file_extension": ".py",
   "mimetype": "text/x-python",
   "name": "python",
   "nbconvert_exporter": "python",
   "pygments_lexer": "ipython3",
   "version": "3.9.6"
  }
 },
 "nbformat": 4,
 "nbformat_minor": 5
}
