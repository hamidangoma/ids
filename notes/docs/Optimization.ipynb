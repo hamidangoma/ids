{
 "cells": [
  {
   "cell_type": "markdown",
   "id": "1f17e34a",
   "metadata": {},
   "source": [
    "# Optimization"
   ]
  },
  {
   "cell_type": "markdown",
   "id": "643d7b5a",
   "metadata": {},
   "source": [
    "SciPy optimize provides functions for minimizing (or maximizing) objective functions, possibly subject to constraints. It includes solvers for nonlinear problems (with support for both local and global optimization algorithms), linear programing, constrained and nonlinear least-squares, root finding, and curve fitting."
   ]
  },
  {
   "cell_type": "markdown",
   "id": "7e47c111",
   "metadata": {},
   "source": [
    "## Least-squares minimization (least_squares)"
   ]
  },
  {
   "cell_type": "markdown",
   "id": "782c2ae6",
   "metadata": {},
   "source": [
    "### Example of solving a fitting problem"
   ]
  },
  {
   "cell_type": "markdown",
   "id": "ec966838",
   "metadata": {},
   "source": [
    "$f_i(x)=\\frac{1}{(xu+1)}-y_i, i=1,...,10$  \n",
    "where $y_i$ are measurement values.The unknown vector of parameters is $x$.  \n",
    "It is recommended to compute Jacobian matrix in a closed form:  \n",
    "$J_i=\\frac{-u}{(xu+1)^2}$"
   ]
  },
  {
   "cell_type": "code",
   "execution_count": 1,
   "id": "80bd3139",
   "metadata": {},
   "outputs": [],
   "source": [
    "from scipy.optimize import least_squares\n",
    "import numpy as np"
   ]
  },
  {
   "cell_type": "code",
   "execution_count": 2,
   "id": "e458088b",
   "metadata": {},
   "outputs": [],
   "source": [
    "def model(x, u):\n",
    "    return 1/(x*u+1)"
   ]
  },
  {
   "cell_type": "code",
   "execution_count": 8,
   "id": "45885c49",
   "metadata": {},
   "outputs": [],
   "source": [
    "def fun(x, u, y):\n",
    "    return model(x,u) - y"
   ]
  },
  {
   "cell_type": "code",
   "execution_count": 21,
   "id": "c84d1063",
   "metadata": {},
   "outputs": [],
   "source": [
    "def jac(x,u,y):\n",
    "    J = np.empty((u.size, x.size))\n",
    "    J[:, 0] = -u/(x*u+1)^2\n",
    "    return J"
   ]
  },
  {
   "cell_type": "code",
   "execution_count": 24,
   "id": "1628619c",
   "metadata": {},
   "outputs": [],
   "source": [
    "u = np.array([4.0, 2.0, 1.0, 5.0e-1, 2.5e-1, 1.67e-1, 1.25e-1, 1.0e-1,\n",
    "              8.33e-2, 7.14e-2])\n",
    "y = np.array([1.957e-1, 1.947e-1, 1.735e-1, 1.6e-1, 8.44e-2, 6.27e-2,\n",
    "              4.56e-2, 3.42e-2, 3.23e-2, 2.35e-2])\n",
    "x0 = np.array([2.5])"
   ]
  },
  {
   "cell_type": "code",
   "execution_count": null,
   "id": "6b4792bb",
   "metadata": {},
   "outputs": [],
   "source": [
    "res = least_squares(fun, x0, jac=jac, bounds=(0, 100), args=(u,y), verbose=1)"
   ]
  },
  {
   "cell_type": "code",
   "execution_count": 26,
   "id": "8b5b9680",
   "metadata": {},
   "outputs": [],
   "source": [
    "def model(x, u):\n",
    "    return x[0] * (u ** 2 + x[1] * u) / (u ** 2 + x[2] * u + x[3])"
   ]
  },
  {
   "cell_type": "code",
   "execution_count": 27,
   "id": "56099901",
   "metadata": {},
   "outputs": [],
   "source": [
    "def fun(x, u, y):\n",
    "    return model(x, u) - y"
   ]
  },
  {
   "cell_type": "code",
   "execution_count": 28,
   "id": "4e66003b",
   "metadata": {},
   "outputs": [],
   "source": [
    "def jac(x, u, y):\n",
    "    J = np.empty((u.size, x.size))\n",
    "    den = u ** 2 + x[2] * u + x[3]\n",
    "    num = u ** 2 + x[1] * u\n",
    "    J[:, 0] = num / den\n",
    "    J[:, 1] = x[0] * u / den\n",
    "    J[:, 2] = -x[0] * num * u / den ** 2\n",
    "    J[:, 3] = -x[0] * num / den ** 2\n",
    "    return J"
   ]
  },
  {
   "cell_type": "code",
   "execution_count": 29,
   "id": "0beac301",
   "metadata": {},
   "outputs": [
    {
     "name": "stdout",
     "output_type": "stream",
     "text": [
      "`ftol` termination condition is satisfied.\n",
      "Function evaluations 131, initial cost 4.4383e+00, final cost 1.5375e-04, first-order optimality 4.52e-08.\n"
     ]
    }
   ],
   "source": [
    "u = np.array([4.0, 2.0, 1.0, 5.0e-1, 2.5e-1, 1.67e-1, 1.25e-1, 1.0e-1,\n",
    "              8.33e-2, 7.14e-2, 6.25e-2])\n",
    "y = np.array([1.957e-1, 1.947e-1, 1.735e-1, 1.6e-1, 8.44e-2, 6.27e-2,\n",
    "              4.56e-2, 3.42e-2, 3.23e-2, 2.35e-2, 2.46e-2])\n",
    "x0 = np.array([2.5, 3.9, 4.15, 3.9])\n",
    "res = least_squares(fun, x0, jac=jac, bounds=(0, 100), args=(u, y), verbose=1)"
   ]
  },
  {
   "cell_type": "code",
   "execution_count": 31,
   "id": "a8618979",
   "metadata": {},
   "outputs": [
    {
     "name": "stdout",
     "output_type": "stream",
     "text": [
      "[0.192806   0.19130332 0.12306046 0.13607205]\n"
     ]
    }
   ],
   "source": [
    "print(res.x)"
   ]
  }
 ],
 "metadata": {
  "kernelspec": {
   "display_name": "Python 3 (ipykernel)",
   "language": "python",
   "name": "python3"
  },
  "language_info": {
   "codemirror_mode": {
    "name": "ipython",
    "version": 3
   },
   "file_extension": ".py",
   "mimetype": "text/x-python",
   "name": "python",
   "nbconvert_exporter": "python",
   "pygments_lexer": "ipython3",
   "version": "3.9.6"
  }
 },
 "nbformat": 4,
 "nbformat_minor": 5
}
